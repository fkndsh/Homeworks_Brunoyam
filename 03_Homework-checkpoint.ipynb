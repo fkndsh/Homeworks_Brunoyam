{
 "cells": [
  {
   "cell_type": "markdown",
   "id": "c37bd2b1",
   "metadata": {},
   "source": [
    "# Практическое задание Модуль 3. Часть 1\n",
    "## Уровень 1\n",
    "\n",
    "Вклад в банке = x рублей. Ежегодно он увеличивается на p процентов, почему чего дробная часть копеек отбрасывается. Необходимо определить, через сколько лет вклад составит не менее y рублей."
   ]
  },
  {
   "cell_type": "code",
   "execution_count": 1,
   "id": "312d2556",
   "metadata": {},
   "outputs": [
    {
     "name": "stdout",
     "output_type": "stream",
     "text": [
      "100000\n",
      "50\n",
      "500000\n",
      "Через  8  лет вклад в банке вырастет до  500000  руб.\n"
     ]
    }
   ],
   "source": [
    "x = int(input())   # Вклад в банке\n",
    "p = float(input()) # Ежегодные проценты, доли.ед.\n",
    "y = int(input())   # Финальная сумма\n",
    "\n",
    "# Формула простых процентов:\n",
    "# y = x * (1 + p*t)\n",
    "# t - срок хранения вклада, год\n",
    "\n",
    "years = int((y/x-1)/(p/100))\n",
    "print('Через ', years, ' лет вклад в банке вырастет до ', y,' руб.')"
   ]
  },
  {
   "cell_type": "markdown",
   "id": "7bcd1a5a",
   "metadata": {},
   "source": [
    "## Уровень 2\n",
    "Пусть n - число повторений и вводится с клавиатуры. Необходимо вывести через print строку \"for - частный случай цикла while\" n раз, используя цикл while."
   ]
  },
  {
   "cell_type": "code",
   "execution_count": 5,
   "id": "b10f396c",
   "metadata": {},
   "outputs": [
    {
     "name": "stdout",
     "output_type": "stream",
     "text": [
      "5\n",
      "Цикл for - частный случай цикла while\n",
      "Цикл for - частный случай цикла while\n",
      "Цикл for - частный случай цикла while\n",
      "Цикл for - частный случай цикла while\n",
      "Цикл for - частный случай цикла while\n"
     ]
    }
   ],
   "source": [
    "n = int(input()) #число повторений строки\n",
    "i = 0\n",
    "while i < n: \n",
    "    print('Цикл for - частный случай цикла while')\n",
    "    i = i + 1"
   ]
  },
  {
   "cell_type": "markdown",
   "id": "db86718e",
   "metadata": {},
   "source": [
    "## Уровень 3\n",
    "Целое число вводится с клавиатуры. Необходимо посчитать сумму цифр данного числа."
   ]
  },
  {
   "cell_type": "code",
   "execution_count": 6,
   "id": "57f38511",
   "metadata": {},
   "outputs": [
    {
     "name": "stdout",
     "output_type": "stream",
     "text": [
      "123\n",
      "Сумма цифр числа =  6\n"
     ]
    }
   ],
   "source": [
    "number = list(input())\n",
    "int_number = []\n",
    "\n",
    "for i in number:\n",
    "    i = int(i)\n",
    "    int_number.append(i)\n",
    "print('Сумма цифр числа = ', sum(int_number))"
   ]
  },
  {
   "cell_type": "markdown",
   "id": "509bccf4",
   "metadata": {},
   "source": [
    "# Практическое задание Модуль 3. Часть 2\n",
    "## Уровень 1\n",
    "Дан произвольный список. Необходимо найти все повторяющиеся элементы и добавить их в новый список."
   ]
  },
  {
   "cell_type": "code",
   "execution_count": 7,
   "id": "edb142e3",
   "metadata": {},
   "outputs": [
    {
     "name": "stdout",
     "output_type": "stream",
     "text": [
      "Повторяющиеся элементы -  {1, 'hello'}\n"
     ]
    }
   ],
   "source": [
    "random_list = [1, 4, 1, 6, \"hello\", \"a\", 5, \"hello\"]\n",
    "repeat_el = []\n",
    "\n",
    "for i in random_list:\n",
    "    if random_list.count(i)>1:\n",
    "        repeat_el.append(i)\n",
    "\n",
    "print(\"Повторяющиеся элементы - \", set(repeat_el))"
   ]
  },
  {
   "cell_type": "markdown",
   "id": "ae9f37ea",
   "metadata": {},
   "source": [
    "## Уровень 2\n",
    "Дана матрица (список из вложенных списков) размера NxN. Необходимо найти максимальный элемент."
   ]
  },
  {
   "cell_type": "code",
   "execution_count": 9,
   "id": "5cc19a4f",
   "metadata": {},
   "outputs": [
    {
     "name": "stdout",
     "output_type": "stream",
     "text": [
      "[[6, 56, 13, 6, 9], [70, 70, 17, 77, 24], [72, 45, 12, 12, 82], [28, 69, 79, 14, 71], [76, 51, 93, 76, 82]]\n",
      "Максимальное значение в матрице =  93\n"
     ]
    }
   ],
   "source": [
    "from random import randint\n",
    "n = 5\n",
    "m = [[randint(0,100) for i in range (n)] for j in range(n)] # генерация матрицы с случайным набором чисел\n",
    "print(m)\n",
    "\n",
    "max_list = list(map(lambda i: max(i), m)) #максимальные значения из каждого списка\n",
    "max_number = max(max_list)\n",
    "print(\"Максимальное значение в матрице = \", max_number)"
   ]
  },
  {
   "cell_type": "markdown",
   "id": "97a26954",
   "metadata": {},
   "source": [
    "## Уровень 3\n",
    "Дан словарь. Необходимо поменять в нем местами ключи и значения."
   ]
  },
  {
   "cell_type": "code",
   "execution_count": 11,
   "id": "fcf9c33f",
   "metadata": {},
   "outputs": [
    {
     "name": "stdout",
     "output_type": "stream",
     "text": [
      "{'id1': 'name1', 'id2': 'name2', 'id3': 'name3'}\n"
     ]
    }
   ],
   "source": [
    "d = {'name1' : 'id1', 'name2' : 'id2', 'name3' : 'id3'}\n",
    "d_rev = {v:k for k,v in d.items()}\n",
    "print(d_rev)"
   ]
  },
  {
   "cell_type": "markdown",
   "id": "66765420",
   "metadata": {},
   "source": [
    "# Практическое задание Модуль 3. Часть 3\n",
    "## Уровень 1\n",
    "Необходимо написать функцию, которая считает площадь треугольника по трем сторонам."
   ]
  },
  {
   "cell_type": "code",
   "execution_count": 13,
   "id": "9ee2e681",
   "metadata": {},
   "outputs": [
    {
     "name": "stdout",
     "output_type": "stream",
     "text": [
      "5\n",
      "5\n",
      "5\n",
      "Площадь треугольника =  10.83\n"
     ]
    }
   ],
   "source": [
    "def square(a, b, c):\n",
    "    P = (a+b+c)/2\n",
    "    S = (P*(P-a)*(P-b)*(P-c))**0.5\n",
    "    return print('Площадь треугольника = ', round(S, 2))\n",
    "\n",
    "#Вводим стороны треугольника\n",
    "A = float(input())\n",
    "B = float(input())\n",
    "C = float(input())\n",
    "square(A, B, C)"
   ]
  },
  {
   "cell_type": "markdown",
   "id": "939d96d3",
   "metadata": {},
   "source": [
    "## Уровень 2\n",
    "Дана строка. Необходимо написать функцию, которая возвращает все слова, длина которых меньше 5."
   ]
  },
  {
   "cell_type": "code",
   "execution_count": 16,
   "id": "63c76eb4",
   "metadata": {},
   "outputs": [
    {
     "data": {
      "text/plain": [
       "['Было',\n",
       " 'дуло',\n",
       " 'сто',\n",
       " 'Так',\n",
       " 'ноль',\n",
       " 'весь',\n",
       " 'мир',\n",
       " 'ума,',\n",
       " 'неё',\n",
       " 'жжёт',\n",
       " 'нас',\n",
       " 'Если',\n",
       " 'как',\n",
       " 'жить',\n",
       " 'живи',\n",
       " 'как',\n",
       " 'все',\n",
       " 'так']"
      ]
     },
     "execution_count": 16,
     "metadata": {},
     "output_type": "execute_result"
    }
   ],
   "source": [
    "s = '''Было просто пасмурно, дуло с севера\n",
    "А к обеду насчитал сто градаций серого.\n",
    "Так всегда первого ноль девятого\n",
    "То ли весь мир сошел с ума, то ли я - того...\n",
    "На столе записка от неё смятая\n",
    "Недопитый виски допиваю с матами.\n",
    "Посмотрю в окно, допишу главу\n",
    "Первое сентября, дворник жжёт листву.\n",
    "Серым облакам наплевать на нас\n",
    "Если знаешь как жить - живи\n",
    "Ты хотела плыть как все - так плыви!'''\n",
    "\n",
    "def short_words(s):\n",
    "    words = s.split()\n",
    "    short_words = list(filter(lambda i: len(i)<5 and len(i)>2 , words))\n",
    "    return short_words\n",
    "\n",
    "short_words(s)"
   ]
  },
  {
   "cell_type": "markdown",
   "id": "26834f6f",
   "metadata": {},
   "source": [
    "## Уровень 3\n",
    "У нас есть массив чисел. Необходимо написать функцию, которая составляет из них максимальное число."
   ]
  },
  {
   "cell_type": "code",
   "execution_count": 19,
   "id": "0c3e53c1",
   "metadata": {},
   "outputs": [
    {
     "name": "stdout",
     "output_type": "stream",
     "text": [
      "956211\n",
      "8153\n"
     ]
    }
   ],
   "source": [
    "numbers = [56, 9, 11, 2]              # Исходный список с неитерируемыми элементами\n",
    "numbers_2 = [3, 81, 5]\n",
    "\n",
    "def number(numbers):\n",
    "    numbers_stroki = []                   # Новый спискок для внесения итерируемых элементов\n",
    "    for i in numbers:\n",
    "        numbers_stroki.append(str(i))     # Заполнили список итерируемыми элементами\n",
    "    numbers_stroki.sort(key = lambda i: i[0], reverse = True)\n",
    "    full_number = ''.join(numbers_stroki)\n",
    "    return full_number\n",
    "\n",
    "print(number(numbers))\n",
    "print(number(numbers_2))"
   ]
  },
  {
   "cell_type": "markdown",
   "id": "8a511689",
   "metadata": {},
   "source": [
    "# Практическое задание Модуль 3. Часть 4\n",
    "## Уровень 1\n",
    "Пусть пользователь вводит логин и пароль для регистрации. Необходимо написать функцию, которая принимает логин и пароль и записывает в json файл."
   ]
  },
  {
   "cell_type": "code",
   "execution_count": 93,
   "id": "979609e8",
   "metadata": {},
   "outputs": [
    {
     "name": "stdout",
     "output_type": "stream",
     "text": [
      "malinka\n",
      "1999\n",
      "Данные успешно добавлены в файл.\n"
     ]
    }
   ],
   "source": [
    "import json\n",
    "\n",
    "login = str(input())\n",
    "passwd = str(input())\n",
    "\n",
    "def register(login, passwd):\n",
    "    data = {}\n",
    "    data[login] = passwd\n",
    "    try:\n",
    "        with open (r'C:\\Users\\darfo\\Desktop\\Курс_дата_сайнтист\\Модуль_3\\user_data.json', 'a') as f:\n",
    "            f.write(json.dumps(data) + '\\n')\n",
    "        print (\"Данные успешно добавлены в файл.\")\n",
    "    except Exception as e:\n",
    "        print(f\"Произошла ошибка: {e}\")\n",
    "        pass\n",
    "\n",
    "#Вызов функции для записи в файл json\n",
    "register(login, passwd)"
   ]
  },
  {
   "cell_type": "markdown",
   "id": "2167a147",
   "metadata": {},
   "source": [
    "## Уровень 2\n",
    "Добавляем проверку на то, существует ли пользователь в системе"
   ]
  },
  {
   "cell_type": "code",
   "execution_count": 12,
   "id": "e54e71ba",
   "metadata": {},
   "outputs": [
    {
     "name": "stdout",
     "output_type": "stream",
     "text": [
      "kalinka\n",
      "100\n",
      "Такой пользователь уже зарегистрирован в системе\n",
      "{\"kalinka\": \"2000\"}\n",
      "{\"malinka\": \"1999\"}\n",
      "{\"masha\": \"3000\"}\n",
      "{\"dasha\": \"1998\"}\n",
      "\n"
     ]
    }
   ],
   "source": [
    "import json\n",
    "\n",
    "login_new = str(input())\n",
    "passwd_new = str(input())\n",
    "\n",
    "def register_check(login_new, passwd_new):\n",
    "    new_user = {}\n",
    "    new_user[login_new] = passwd_new \n",
    "\n",
    "    #Чтение имеющихся в файле данных\n",
    "    with open (r'C:\\Users\\darfo\\Desktop\\Курс_дата_сайнтист\\Модуль_3\\user_data.json', 'r') as f:\n",
    "        #for line in f:       #т.к. в файле несколько json объектов\n",
    "        users = f.read()\n",
    "        if login_new in users:\n",
    "            print('Такой пользователь уже зарегистрирован в системе')\n",
    "        else:\n",
    "            with open (r'C:\\Users\\darfo\\Desktop\\Курс_дата_сайнтист\\Модуль_3\\user_data.json', 'a') as f:\n",
    "                f.write(json.dumps(new_user) + '\\n')\n",
    "            print('Вы успешно зарегистрированы')\n",
    "    pass\n",
    "\n",
    "register_check(login_new, passwd_new)\n",
    "\n",
    "with open (r'C:\\Users\\darfo\\Desktop\\Курс_дата_сайнтист\\Модуль_3\\user_data.json', 'r') as f:\n",
    "    all_users = f.read()\n",
    "    print(all_users)\n",
    "    \n"
   ]
  },
  {
   "cell_type": "markdown",
   "id": "e905ef22",
   "metadata": {},
   "source": [
    "## Уровень 3\n",
    "Проверяем правильность логина и пароля, которые записаны в файл.\n"
   ]
  },
  {
   "cell_type": "code",
   "execution_count": 55,
   "id": "f7664e5e",
   "metadata": {},
   "outputs": [
    {
     "name": "stdout",
     "output_type": "stream",
     "text": [
      "kalifornia\n",
      "rtyuiopl9\n",
      "Вы успешно зарегистрированы\n"
     ]
    }
   ],
   "source": [
    "import json\n",
    "\n",
    "login_new = str(input())\n",
    "passwd_new = str(input())\n",
    "\n",
    "def register_check(login_new, passwd_new):\n",
    "    new_user = {}\n",
    "    # Фильтры для проверки длины логина и пароля\n",
    "    if len(login_new)<8:\n",
    "        print('В логине должно быть не менее 8 символов. Проверьте данные и повторите попытку.')\n",
    "        return\n",
    "    elif len(passwd_new)<8 :\n",
    "        print('В пароле должно быть не менее 8 символов. Проверьте данные и повторите попытку.')\n",
    "        return\n",
    "    elif any(i.isdigit() for i in passwd_new) == False:\n",
    "        print('Пароль должен содержать хотя бы 1 цифру.')\n",
    "        return\n",
    "    else:\n",
    "        new_user[login_new] = passwd_new \n",
    "\n",
    "    #Чтение имеющихся в файле данных\n",
    "    with open (r'C:\\Users\\darfo\\Desktop\\Курс_дата_сайнтист\\Модуль_3\\user_data.json', 'r') as f:\n",
    "        #for line in f:       #т.к. в файле несколько json объектов\n",
    "        users = f.read()\n",
    "        if login_new in users:\n",
    "            print('Такой пользователь уже зарегистрирован в системе')\n",
    "        else:\n",
    "            with open (r'C:\\Users\\darfo\\Desktop\\Курс_дата_сайнтист\\Модуль_3\\user_data.json', 'a') as f:\n",
    "                f.write(json.dumps(new_user) + '\\n')\n",
    "                print('Вы успешно зарегистрированы')\n",
    "    pass\n",
    "\n",
    "register_check(login_new, passwd_new)"
   ]
  }
 ],
 "metadata": {
  "kernelspec": {
   "display_name": "Python 3 (ipykernel)",
   "language": "python",
   "name": "python3"
  },
  "language_info": {
   "codemirror_mode": {
    "name": "ipython",
    "version": 3
   },
   "file_extension": ".py",
   "mimetype": "text/x-python",
   "name": "python",
   "nbconvert_exporter": "python",
   "pygments_lexer": "ipython3",
   "version": "3.9.13"
  }
 },
 "nbformat": 4,
 "nbformat_minor": 5
}
