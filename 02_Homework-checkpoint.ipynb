{
 "cells": [
  {
   "cell_type": "markdown",
   "id": "eda31b32",
   "metadata": {},
   "source": [
    "# Практическое задание Модуль 2\n",
    "## Уровень 1\n",
    "Даны целых три числа. Определить, сколько из них совпадающих."
   ]
  },
  {
   "cell_type": "code",
   "execution_count": 2,
   "id": "d519388e",
   "metadata": {},
   "outputs": [
    {
     "name": "stdout",
     "output_type": "stream",
     "text": [
      "5\n",
      "5\n",
      "5\n",
      "3\n"
     ]
    }
   ],
   "source": [
    "a = int(input())\n",
    "b = int(input())\n",
    "c = int(input())\n",
    "\n",
    "if a==b and b==c and c==a:\n",
    "    print(3)\n",
    "elif a==b or b==c or c==a:\n",
    "    print(2)\n",
    "else:\n",
    "    print(0)"
   ]
  },
  {
   "cell_type": "markdown",
   "id": "aaf453c2",
   "metadata": {},
   "source": [
    "## Уровень 2\n",
    "Определить, сможет ли ладья попасть с одной клетки на другую за один ход (ладья ходит строго по вертикали или по горизонтали)"
   ]
  },
  {
   "cell_type": "code",
   "execution_count": 5,
   "id": "9b5245e7",
   "metadata": {},
   "outputs": [
    {
     "name": "stdout",
     "output_type": "stream",
     "text": [
      "2\n",
      "2\n",
      "3\n",
      "5\n",
      "YES\n"
     ]
    }
   ],
   "source": [
    "#Координаты ладьми начальные и конечные\n",
    "x1 = int(input())\n",
    "x2 = int(input())\n",
    "y1 = int(input())\n",
    "y2 = int(input())\n",
    "\n",
    "if x1==x2 or y1==y2:\n",
    "    print('YES')\n",
    "else:\n",
    "    print('NO')"
   ]
  },
  {
   "cell_type": "markdown",
   "id": "82c53b3d",
   "metadata": {},
   "source": [
    "## Уровень 3\n",
    "Пользователь вводит пароль с клавиатуры. Пароль должен быть длинее 8 символов и содержать как прописные, так и заглавные буквы. Используя цикл while дождитесь, пока пользователь введет допустимый пароль."
   ]
  },
  {
   "cell_type": "code",
   "execution_count": 7,
   "id": "747e2956",
   "metadata": {},
   "outputs": [
    {
     "name": "stdout",
     "output_type": "stream",
     "text": [
      "dfghjkERTYUIO\n",
      "password is available\n"
     ]
    }
   ],
   "source": [
    "password = str(input())\n",
    "if len(password) > 8 and password.islower()==False and password.isupper()==False:\n",
    "    print('password is available')\n",
    "else:\n",
    "    print('password is not available')"
   ]
  },
  {
   "cell_type": "code",
   "execution_count": null,
   "id": "676a4830",
   "metadata": {},
   "outputs": [],
   "source": []
  }
 ],
 "metadata": {
  "kernelspec": {
   "display_name": "Python 3 (ipykernel)",
   "language": "python",
   "name": "python3"
  },
  "language_info": {
   "codemirror_mode": {
    "name": "ipython",
    "version": 3
   },
   "file_extension": ".py",
   "mimetype": "text/x-python",
   "name": "python",
   "nbconvert_exporter": "python",
   "pygments_lexer": "ipython3",
   "version": "3.9.13"
  }
 },
 "nbformat": 4,
 "nbformat_minor": 5
}
