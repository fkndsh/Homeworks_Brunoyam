{
 "cells": [
  {
   "cell_type": "markdown",
   "id": "90948acb",
   "metadata": {},
   "source": [
    "# Практическое задание Модуль 1. Часть 1.\n",
    "## Уровень 1"
   ]
  },
  {
   "cell_type": "markdown",
   "id": "bd08b4aa",
   "metadata": {},
   "source": [
    "Вывести значение выражения через функцию print() в переменной value."
   ]
  },
  {
   "cell_type": "code",
   "execution_count": 2,
   "id": "cb8765d9",
   "metadata": {},
   "outputs": [
    {
     "name": "stdout",
     "output_type": "stream",
     "text": [
      "0.038580246913580245\n"
     ]
    }
   ],
   "source": [
    "value = (5+7*5/8)/3**5\n",
    "print(value)"
   ]
  },
  {
   "cell_type": "markdown",
   "id": "06a6ff38",
   "metadata": {},
   "source": [
    "## Уровень 2"
   ]
  },
  {
   "cell_type": "markdown",
   "id": "382cf302",
   "metadata": {},
   "source": [
    "Длина Московской кольцевой автомобильной дороги – 109 километров. Байкер Вася стартует с нулевого километра МКАД и едет со скоростью 𝑣 километров в час. На какой отметке он остановится через 𝑡 часов? Значения скорости и времени считаются целыми числами."
   ]
  },
  {
   "cell_type": "code",
   "execution_count": 9,
   "id": "d0d9e341",
   "metadata": {},
   "outputs": [
    {
     "name": "stdout",
     "output_type": "stream",
     "text": [
      "40\n",
      "2\n",
      "На отметке 80 км\n"
     ]
    }
   ],
   "source": [
    "v = int(input())\n",
    "t = int(input())\n",
    "s = v*t\n",
    "if s % 109 > 0:\n",
    "    print ('На отметке', s % 109, 'км' )\n",
    "else: \n",
    "    print ('На отметке = ', 0, 'км')"
   ]
  },
  {
   "cell_type": "markdown",
   "id": "0abdfdfa",
   "metadata": {},
   "source": [
    "## Уровень 3"
   ]
  },
  {
   "cell_type": "markdown",
   "id": "4b6687dc",
   "metadata": {},
   "source": [
    "На вход подаются 2 числа. Числа могут быть как целые, так и вещественные. Сравните их значения и найдите наибольшее. Помните, что результатом сравнения является True или False (тип bool). При этом True эквивалентно 1, а False 0 при умножении."
   ]
  },
  {
   "cell_type": "code",
   "execution_count": 11,
   "id": "3a061328",
   "metadata": {},
   "outputs": [
    {
     "name": "stdout",
     "output_type": "stream",
     "text": [
      "124.2\n",
      "-2\n",
      "Максимальное значение: 124.2\n"
     ]
    }
   ],
   "source": [
    "a = float(input())\n",
    "b = float(input())\n",
    "print ('Максимальное значение:', max(a,b))"
   ]
  }
 ],
 "metadata": {
  "kernelspec": {
   "display_name": "Python 3 (ipykernel)",
   "language": "python",
   "name": "python3"
  },
  "language_info": {
   "codemirror_mode": {
    "name": "ipython",
    "version": 3
   },
   "file_extension": ".py",
   "mimetype": "text/x-python",
   "name": "python",
   "nbconvert_exporter": "python",
   "pygments_lexer": "ipython3",
   "version": "3.9.13"
  }
 },
 "nbformat": 4,
 "nbformat_minor": 5
}
