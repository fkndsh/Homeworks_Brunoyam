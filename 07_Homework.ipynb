{
 "cells": [
  {
   "cell_type": "markdown",
   "id": "996c80c4-eb56-4f93-a395-97f15b35056c",
   "metadata": {},
   "source": [
    "#### Уровень 1. \n",
    "Проверка ответов задания \"Найти производную функции в точке\""
   ]
  },
  {
   "cell_type": "code",
   "execution_count": 1,
   "id": "c72f8167-100d-49b2-8190-90e85af441a3",
   "metadata": {},
   "outputs": [],
   "source": [
    "from sympy import diff, symbols, cos, sin, exp"
   ]
  },
  {
   "cell_type": "code",
   "execution_count": 2,
   "id": "e32e0afc-0d38-43cb-a2b8-7fa1d9fd92aa",
   "metadata": {},
   "outputs": [],
   "source": [
    "x,y = symbols('x y')"
   ]
  },
  {
   "cell_type": "code",
   "execution_count": 3,
   "id": "ed55c22c-805c-4f94-8955-04232bf41601",
   "metadata": {},
   "outputs": [
    {
     "data": {
      "text/latex": [
       "$\\displaystyle - \\frac{\\cos{\\left(\\frac{1}{x} \\right)}}{x^{2}}$"
      ],
      "text/plain": [
       "-cos(1/x)/x**2"
      ]
     },
     "execution_count": 3,
     "metadata": {},
     "output_type": "execute_result"
    }
   ],
   "source": [
    "#1 функция\n",
    "diff(sin(1/x))"
   ]
  },
  {
   "cell_type": "code",
   "execution_count": 4,
   "id": "3700ac1d-fd8c-4873-ac12-bc6f83f448ca",
   "metadata": {},
   "outputs": [
    {
     "name": "stdout",
     "output_type": "stream",
     "text": [
      "-0.0392\n"
     ]
    }
   ],
   "source": [
    "#Производная в точке x0 = 5\n",
    "print(round(-(cos(1/5)/(5**2)),4))"
   ]
  },
  {
   "cell_type": "code",
   "execution_count": 6,
   "id": "5ab939c3-646d-426b-928f-ec7df53e2ee7",
   "metadata": {},
   "outputs": [
    {
     "data": {
      "text/latex": [
       "$\\displaystyle - \\frac{e^{- \\frac{x}{2}}}{2}$"
      ],
      "text/plain": [
       "-exp(-x/2)/2"
      ]
     },
     "execution_count": 6,
     "metadata": {},
     "output_type": "execute_result"
    }
   ],
   "source": [
    "#2 функция\n",
    "diff(exp(-x/2))"
   ]
  },
  {
   "cell_type": "code",
   "execution_count": null,
   "id": "685d2e09-b773-4b3a-b07f-bbb39e2fb2a2",
   "metadata": {},
   "outputs": [],
   "source": []
  },
  {
   "cell_type": "markdown",
   "id": "aeae5508-0e47-43ac-a55c-e11249bc76fe",
   "metadata": {},
   "source": [
    "#### Градиентный спуск"
   ]
  },
  {
   "cell_type": "code",
   "execution_count": null,
   "id": "c33fda7b-84cb-4612-9133-238407fbc5a1",
   "metadata": {},
   "outputs": [],
   "source": []
  }
 ],
 "metadata": {
  "kernelspec": {
   "display_name": "Python 3 (ipykernel)",
   "language": "python",
   "name": "python3"
  },
  "language_info": {
   "codemirror_mode": {
    "name": "ipython",
    "version": 3
   },
   "file_extension": ".py",
   "mimetype": "text/x-python",
   "name": "python",
   "nbconvert_exporter": "python",
   "pygments_lexer": "ipython3",
   "version": "3.12.4"
  }
 },
 "nbformat": 4,
 "nbformat_minor": 5
}
