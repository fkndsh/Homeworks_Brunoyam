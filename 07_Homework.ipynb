{
 "cells": [
  {
   "cell_type": "markdown",
   "id": "996c80c4-eb56-4f93-a395-97f15b35056c",
   "metadata": {},
   "source": [
    "#### Уровень 1 (1)\n",
    "Найти производную функции f(x) в точке"
   ]
  },
  {
   "cell_type": "code",
   "execution_count": 1,
   "id": "c72f8167-100d-49b2-8190-90e85af441a3",
   "metadata": {},
   "outputs": [],
   "source": [
    "from sympy import diff, symbols, cos, sin, exp\n",
    "import numpy as np"
   ]
  },
  {
   "cell_type": "code",
   "execution_count": 2,
   "id": "e32e0afc-0d38-43cb-a2b8-7fa1d9fd92aa",
   "metadata": {},
   "outputs": [],
   "source": [
    "x,y,z = symbols('x y z')"
   ]
  },
  {
   "cell_type": "code",
   "execution_count": 3,
   "id": "ed55c22c-805c-4f94-8955-04232bf41601",
   "metadata": {},
   "outputs": [
    {
     "data": {
      "text/latex": [
       "$\\displaystyle - \\frac{\\cos{\\left(\\frac{1}{x} \\right)}}{x^{2}}$"
      ],
      "text/plain": [
       "-cos(1/x)/x**2"
      ]
     },
     "execution_count": 3,
     "metadata": {},
     "output_type": "execute_result"
    }
   ],
   "source": [
    "#1 функция f(x) = sin(1/x)\n",
    "diff(sin(1/x))"
   ]
  },
  {
   "cell_type": "code",
   "execution_count": 4,
   "id": "3700ac1d-fd8c-4873-ac12-bc6f83f448ca",
   "metadata": {},
   "outputs": [
    {
     "name": "stdout",
     "output_type": "stream",
     "text": [
      "-0.0392\n"
     ]
    }
   ],
   "source": [
    "#Производная в точке x0 = 5\n",
    "print(round(-(cos(1/5)/(5**2)),4))"
   ]
  },
  {
   "cell_type": "code",
   "execution_count": 5,
   "id": "5ab939c3-646d-426b-928f-ec7df53e2ee7",
   "metadata": {},
   "outputs": [
    {
     "data": {
      "text/latex": [
       "$\\displaystyle - \\frac{e^{- \\frac{x}{2}}}{2}$"
      ],
      "text/plain": [
       "-exp(-x/2)/2"
      ]
     },
     "execution_count": 5,
     "metadata": {},
     "output_type": "execute_result"
    }
   ],
   "source": [
    "#2 функция f(x) = e^(-x/2)\n",
    "diff(exp(-x/2))"
   ]
  },
  {
   "cell_type": "code",
   "execution_count": 6,
   "id": "685d2e09-b773-4b3a-b07f-bbb39e2fb2a2",
   "metadata": {},
   "outputs": [
    {
     "name": "stdout",
     "output_type": "stream",
     "text": [
      "-0.1839\n"
     ]
    }
   ],
   "source": [
    "#Производная в точке x0 = 2\n",
    "print(round(-exp(-2/2)/2,4))"
   ]
  },
  {
   "cell_type": "markdown",
   "id": "74341ff6-570d-44e0-b880-5c1d038d0308",
   "metadata": {},
   "source": [
    "#### Уровень 1 (2)\n",
    "Найти градиент функции в точке"
   ]
  },
  {
   "cell_type": "code",
   "execution_count": 7,
   "id": "c33fda7b-84cb-4612-9133-238407fbc5a1",
   "metadata": {},
   "outputs": [
    {
     "data": {
      "text/latex": [
       "$\\displaystyle 2 x + 2 y$"
      ],
      "text/plain": [
       "2*x + 2*y"
      ]
     },
     "execution_count": 7,
     "metadata": {},
     "output_type": "execute_result"
    }
   ],
   "source": [
    "#1 функция. Ищем частные производные\n",
    "\n",
    "def func(x,y):\n",
    "    return (x+y)**2 - 3*y + 5\n",
    "#Производная по x\n",
    "diff(func(x,y), x)"
   ]
  },
  {
   "cell_type": "code",
   "execution_count": 8,
   "id": "8986a0ba-4d01-49cc-99bc-785799e7d9a0",
   "metadata": {},
   "outputs": [
    {
     "data": {
      "text/latex": [
       "$\\displaystyle 2 x + 2 y - 3$"
      ],
      "text/plain": [
       "2*x + 2*y - 3"
      ]
     },
     "execution_count": 8,
     "metadata": {},
     "output_type": "execute_result"
    }
   ],
   "source": [
    "#Производная по y\n",
    "diff(func(x,y), y)"
   ]
  },
  {
   "cell_type": "code",
   "execution_count": 9,
   "id": "b780b7ce-1235-48b8-a3d3-a4901ec44dc3",
   "metadata": {},
   "outputs": [
    {
     "name": "stdout",
     "output_type": "stream",
     "text": [
      "grad_func = ( 24 , 21 )\n"
     ]
    }
   ],
   "source": [
    "# Градиент в точке x0 = (2, 10):\n",
    "print('grad_func = (',2*2 + 2*10,',', 2*2 + 2*10 - 3, ')')"
   ]
  },
  {
   "cell_type": "code",
   "execution_count": 10,
   "id": "2ac64deb-4198-4389-a9cb-4b8384f05611",
   "metadata": {},
   "outputs": [],
   "source": [
    "#2 функция. Ищем частные производные\n",
    "\n",
    "def function(x,y,z):\n",
    "    return (x + y - z)**2 - 3*(y + z)**2"
   ]
  },
  {
   "cell_type": "code",
   "execution_count": 11,
   "id": "aa70d1c1-4cd0-4c1d-9b46-8bb7b4375efe",
   "metadata": {},
   "outputs": [
    {
     "data": {
      "text/latex": [
       "$\\displaystyle 2 x + 2 y - 2 z$"
      ],
      "text/plain": [
       "2*x + 2*y - 2*z"
      ]
     },
     "execution_count": 11,
     "metadata": {},
     "output_type": "execute_result"
    }
   ],
   "source": [
    "#Производная по x:\n",
    "diff(function(x,y,z), x)"
   ]
  },
  {
   "cell_type": "code",
   "execution_count": 12,
   "id": "e3f6a360-84dd-4d75-8f79-9234e6e8ce65",
   "metadata": {},
   "outputs": [
    {
     "data": {
      "text/latex": [
       "$\\displaystyle 2 x - 4 y - 8 z$"
      ],
      "text/plain": [
       "2*x - 4*y - 8*z"
      ]
     },
     "execution_count": 12,
     "metadata": {},
     "output_type": "execute_result"
    }
   ],
   "source": [
    "#Производная по y:\n",
    "diff(function(x,y,z), y)"
   ]
  },
  {
   "cell_type": "code",
   "execution_count": 13,
   "id": "c9586e11-1fed-43ed-937c-9766766771cf",
   "metadata": {},
   "outputs": [
    {
     "data": {
      "text/latex": [
       "$\\displaystyle - 2 x - 8 y - 4 z$"
      ],
      "text/plain": [
       "-2*x - 8*y - 4*z"
      ]
     },
     "execution_count": 13,
     "metadata": {},
     "output_type": "execute_result"
    }
   ],
   "source": [
    "#Производная по z:\n",
    "diff(function(x,y,z), z)"
   ]
  },
  {
   "cell_type": "code",
   "execution_count": 14,
   "id": "5e1aafe0-6674-4c81-9c3a-d5e859d237f2",
   "metadata": {},
   "outputs": [
    {
     "name": "stdout",
     "output_type": "stream",
     "text": [
      "grad_function = ( -12 , 18 , 42 )\n"
     ]
    }
   ],
   "source": [
    "# Градиент в точке x0 = (-1, -5, 0):\n",
    "print('grad_function = (',2*(-1) + 2*(-5) - 2*0,',', 2*(-1) - 4*(-5) - 8*0, ',', -2*(-1) - 8*(-5) - 4*0 , ')')"
   ]
  },
  {
   "cell_type": "markdown",
   "id": "0b8e8f86-b75d-415e-9172-fb5c5b400bf9",
   "metadata": {},
   "source": [
    "#### Уровень 2\n",
    "Используя градиентный спуск найти минимум функции с точностью до 10^(-8).\n",
    "Подобрать learning rate, измерить кол-во итераций.\n",
    "Проверить себя при помощи функции minimize в scipy.\n",
    "\n",
    "$$ f(x, y)=(x-3)^2 + (y+5)^2,  x_0=(5,2) $$"
   ]
  },
  {
   "cell_type": "code",
   "execution_count": 15,
   "id": "0cd5886c-9063-4c17-bc49-bcff143794ba",
   "metadata": {},
   "outputs": [
    {
     "name": "stdout",
     "output_type": "stream",
     "text": [
      "grad_f = ( 2*x - 6 , 2*y + 10 )\n"
     ]
    }
   ],
   "source": [
    "def func(x,y):\n",
    "    return (x-3)**2 + (y+5)**2\n",
    "    \n",
    "#Вычислим градиент функции\n",
    "diff_x = diff(func(x,y),x) \n",
    "diff_y = diff(func(x,y),y)\n",
    "print('grad_f = (', diff_x, ',', diff_y, ')')"
   ]
  },
  {
   "cell_type": "code",
   "execution_count": 27,
   "id": "45cc4030-a2fd-4064-953d-e68df8bcf277",
   "metadata": {},
   "outputs": [
    {
     "name": "stdout",
     "output_type": "stream",
     "text": [
      "Точка минимума (наиболее приближенная к минимуму): [ 3.00000002 -4.99999996]\n",
      "Значение функции в точке минимума: 2.407621815595788e-15\n",
      "Минимум функции найден на шаге № : 88\n",
      "Точность поиска составила: 1e-07\n"
     ]
    }
   ],
   "source": [
    "#Задаем точку для 1ой итерации\n",
    "x0 = np.array([10,10])\n",
    "\n",
    "#Задаем вектор, по которому будем шагать (наш градиент)\n",
    "def grad_f(x, y):\n",
    "    grad_x = 2*x - 6\n",
    "    grad_y = 2*y + 10\n",
    "    return np.array([grad_x, grad_y])\n",
    "    \n",
    "#Точность поиска:\n",
    "eps = 10e-8\n",
    "#Размер шага\n",
    "learning_rate = 0.1\n",
    "#Кол-во итераций (шагов)\n",
    "max_steps = 100\n",
    "\n",
    "#Счётчик:\n",
    "x_old = x0\n",
    "i=0\n",
    "while np.linalg.norm(grad_f(x_old[0], x_old[1])) > eps:\n",
    "    #Обновляем точку X\n",
    "    x_new = x_old - learning_rate * grad_f(x_old[0], x_old[1])\n",
    "    x_old = x_new\n",
    "    i += 1\n",
    "    #Смотрим критерий останова\n",
    "    if i == max_steps:\n",
    "        break\n",
    "print ('Точка минимума (наиболее приближенная к минимуму):', x_new)\n",
    "print ('Значение функции в точке минимума:', func(x_new[0], x_new[1]))\n",
    "print ('Минимум функции найден на шаге № :', i)\n",
    "print ('Точность поиска составила:', eps)\n"
   ]
  },
  {
   "cell_type": "code",
   "execution_count": 31,
   "id": "becd34b8-03e7-47ac-b310-0fd4fe2eb579",
   "metadata": {},
   "outputs": [],
   "source": [
    "# Проверка через scipy\n",
    "from scipy.optimize import minimize"
   ]
  },
  {
   "cell_type": "code",
   "execution_count": 66,
   "id": "d27f76a6-7ca1-4a78-b1d3-827be7be7131",
   "metadata": {},
   "outputs": [
    {
     "data": {
      "text/plain": [
       "  message: Optimization terminated successfully.\n",
       "  success: True\n",
       "   status: 0\n",
       "      fun: 4.759326278313503e-12\n",
       "        x: [ 3.000e+00 -5.000e+00]\n",
       "      nit: 2\n",
       "      jac: [-2.484e-06  3.592e-06]\n",
       " hess_inv: [[ 9.106e-01 -1.916e-01]\n",
       "            [-1.916e-01  5.894e-01]]\n",
       "     nfev: 12\n",
       "     njev: 4"
      ]
     },
     "execution_count": 66,
     "metadata": {},
     "output_type": "execute_result"
    }
   ],
   "source": [
    "#Т.к. функция minimize оперирует только с массивом, то продублируем нашу функцию, задавая ей массив вместо x, y\n",
    "def auto_min(vars):\n",
    "    x,y = vars\n",
    "    return (x-3)**2 + (y+5)**2\n",
    "\n",
    "x0 = np.array([10,10])\n",
    "minimize(auto_min, x0)\n",
    "#Видим, что найденная точка градиентным спуском такая же = (3; -5)"
   ]
  },
  {
   "cell_type": "markdown",
   "id": "ad8a5d9c-84db-4522-961d-b4c74e343651",
   "metadata": {},
   "source": [
    "#### Уровень 3\r",
    "Построить график линий уровня для функции."
   ]
  },
  {
   "cell_type": "code",
   "execution_count": 102,
   "id": "81c3fa14-0d51-45b0-8490-b715cf5d022b",
   "metadata": {},
   "outputs": [
    {
     "data": {
      "image/png": "[encoded data removed]",
      "text/plain": [
       "<Figure size 900x700 with 2 Axes>"
      ]
     },
     "metadata": {},
     "output_type": "display_data"
    }
   ],
   "source": [
    "import matplotlib.pyplot as plt\n",
    "\n",
    "#Задаем двумерную сетку значений\n",
    "x = np.linspace(-5, 10, 100)\n",
    "y = np.linspace(-10, 0, 100)\n",
    "x, y = np.meshgrid(x, y)\n",
    "\n",
    "#Вычисляем функцию для каждой точки\n",
    "z = func(x, y)\n",
    "\n",
    "#Создаем график линий уровня\n",
    "plt.figure(figsize=(9,7))           #размер картинки\n",
    "levels = np.linspace(0, 90, 10)     #частота изолиний\n",
    "\n",
    "#Построение контуров\n",
    "contour = plt.contour(x, y, z, levels = levels)\n",
    "\n",
    "#Заполняем контуры\n",
    "contourf = plt.contourf(x, y, z, levels = levels)\n",
    "\n",
    "# Подписываем оси, добавляем легенду по цветам\n",
    "plt.title('Линии уровня функции f(x,y) = (x-3)^2 + (y+5)^2')\n",
    "plt.xlabel('x')\n",
    "plt.ylabel('y')\n",
    "plt.colorbar(contourf)\n",
    "\n",
    "plt.show()"
   ]
  },
  {
   "cell_type": "code",
   "execution_count": null,
   "id": "852ced31-da18-4025-bafb-cea275056fb7",
   "metadata": {},
   "outputs": [],
   "source": []
  }
 ],
 "metadata": {
  "kernelspec": {
   "display_name": "Python 3 (ipykernel)",
   "language": "python",
   "name": "python3"
  },
  "language_info": {
   "codemirror_mode": {
    "name": "ipython",
    "version": 3
   },
   "file_extension": ".py",
   "mimetype": "text/x-python",
   "name": "python",
   "nbconvert_exporter": "python",
   "pygments_lexer": "ipython3",
   "version": "3.12.4"
  }
 },
 "nbformat": 4,
 "nbformat_minor": 5
}
